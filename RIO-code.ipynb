{
 "cells": [
  {
   "cell_type": "code",
   "execution_count": 1,
   "metadata": {
    "collapsed": true
   },
   "outputs": [],
   "source": [
    "import pandas as pd\n",
    "import numpy as np\n",
    "import itertools\n",
    "import matplotlib.pyplot as plt\n",
    "import matplotlib.gridspec as gridspec\n",
    "import seaborn as sns"
   ]
  },
  {
   "cell_type": "code",
   "execution_count": 98,
   "metadata": {
    "collapsed": true
   },
   "outputs": [],
   "source": [
    "prog = pd.read_csv('ProgressiveRakeback.csv')\n",
    "flat = pd.read_csv('FlatRakeback.csv')"
   ]
  },
  {
   "cell_type": "code",
   "execution_count": 105,
   "metadata": {
    "collapsed": false
   },
   "outputs": [
    {
     "data": {
      "text/html": [
       "<div>\n",
       "<style>\n",
       "    .dataframe thead tr:only-child th {\n",
       "        text-align: right;\n",
       "    }\n",
       "\n",
       "    .dataframe thead th {\n",
       "        text-align: left;\n",
       "    }\n",
       "\n",
       "    .dataframe tbody tr th {\n",
       "        vertical-align: top;\n",
       "    }\n",
       "</style>\n",
       "<table border=\"1\" class=\"dataframe\">\n",
       "  <thead>\n",
       "    <tr style=\"text-align: right;\">\n",
       "      <th></th>\n",
       "      <th>Player</th>\n",
       "      <th>Hands</th>\n",
       "      <th>Result</th>\n",
       "      <th>RakePaid</th>\n",
       "      <th>1kRakeback</th>\n",
       "      <th>5kRakeback</th>\n",
       "      <th>&gt;5kRakeback</th>\n",
       "      <th>Cumulative</th>\n",
       "      <th>winrate</th>\n",
       "      <th>Rbwinrate</th>\n",
       "      <th>rbeffect</th>\n",
       "      <th>Reg</th>\n",
       "      <th>PlayerType</th>\n",
       "      <th>RBReg</th>\n",
       "      <th>RB_PlayerType</th>\n",
       "    </tr>\n",
       "  </thead>\n",
       "  <tbody>\n",
       "    <tr>\n",
       "      <th>0</th>\n",
       "      <td>Player 1</td>\n",
       "      <td>298644</td>\n",
       "      <td>2285.47</td>\n",
       "      <td>17668.05</td>\n",
       "      <td>100.0</td>\n",
       "      <td>1000.0</td>\n",
       "      <td>5067.220</td>\n",
       "      <td>6167.22</td>\n",
       "      <td>0.765282</td>\n",
       "      <td>2.830357</td>\n",
       "      <td>2.698447</td>\n",
       "      <td>1</td>\n",
       "      <td>1</td>\n",
       "      <td>1</td>\n",
       "      <td>1</td>\n",
       "    </tr>\n",
       "    <tr>\n",
       "      <th>1</th>\n",
       "      <td>Player 2</td>\n",
       "      <td>232879</td>\n",
       "      <td>4353.83</td>\n",
       "      <td>14217.46</td>\n",
       "      <td>100.0</td>\n",
       "      <td>1000.0</td>\n",
       "      <td>3686.984</td>\n",
       "      <td>4786.98</td>\n",
       "      <td>1.869567</td>\n",
       "      <td>3.925133</td>\n",
       "      <td>1.099487</td>\n",
       "      <td>1</td>\n",
       "      <td>1</td>\n",
       "      <td>1</td>\n",
       "      <td>1</td>\n",
       "    </tr>\n",
       "    <tr>\n",
       "      <th>2</th>\n",
       "      <td>Player 3</td>\n",
       "      <td>207342</td>\n",
       "      <td>1398.22</td>\n",
       "      <td>15216.04</td>\n",
       "      <td>100.0</td>\n",
       "      <td>1000.0</td>\n",
       "      <td>4086.416</td>\n",
       "      <td>5186.42</td>\n",
       "      <td>0.674354</td>\n",
       "      <td>3.175739</td>\n",
       "      <td>3.709302</td>\n",
       "      <td>1</td>\n",
       "      <td>1</td>\n",
       "      <td>1</td>\n",
       "      <td>1</td>\n",
       "    </tr>\n",
       "    <tr>\n",
       "      <th>3</th>\n",
       "      <td>Player 4</td>\n",
       "      <td>183272</td>\n",
       "      <td>5522.98</td>\n",
       "      <td>10412.41</td>\n",
       "      <td>100.0</td>\n",
       "      <td>1000.0</td>\n",
       "      <td>2164.964</td>\n",
       "      <td>3264.96</td>\n",
       "      <td>3.013543</td>\n",
       "      <td>4.795026</td>\n",
       "      <td>0.591159</td>\n",
       "      <td>1</td>\n",
       "      <td>1</td>\n",
       "      <td>1</td>\n",
       "      <td>1</td>\n",
       "    </tr>\n",
       "    <tr>\n",
       "      <th>4</th>\n",
       "      <td>Player 5</td>\n",
       "      <td>164829</td>\n",
       "      <td>5251.84</td>\n",
       "      <td>10028.26</td>\n",
       "      <td>100.0</td>\n",
       "      <td>1000.0</td>\n",
       "      <td>2011.304</td>\n",
       "      <td>3111.30</td>\n",
       "      <td>3.186235</td>\n",
       "      <td>5.073828</td>\n",
       "      <td>0.592421</td>\n",
       "      <td>1</td>\n",
       "      <td>1</td>\n",
       "      <td>1</td>\n",
       "      <td>1</td>\n",
       "    </tr>\n",
       "  </tbody>\n",
       "</table>\n",
       "</div>"
      ],
      "text/plain": [
       "     Player   Hands   Result  RakePaid  1kRakeback  5kRakeback  >5kRakeback  \\\n",
       "0  Player 1  298644  2285.47  17668.05       100.0      1000.0     5067.220   \n",
       "1  Player 2  232879  4353.83  14217.46       100.0      1000.0     3686.984   \n",
       "2  Player 3  207342  1398.22  15216.04       100.0      1000.0     4086.416   \n",
       "3  Player 4  183272  5522.98  10412.41       100.0      1000.0     2164.964   \n",
       "4  Player 5  164829  5251.84  10028.26       100.0      1000.0     2011.304   \n",
       "\n",
       "   Cumulative   winrate  Rbwinrate  rbeffect  Reg  PlayerType  RBReg  \\\n",
       "0     6167.22  0.765282   2.830357  2.698447    1           1      1   \n",
       "1     4786.98  1.869567   3.925133  1.099487    1           1      1   \n",
       "2     5186.42  0.674354   3.175739  3.709302    1           1      1   \n",
       "3     3264.96  3.013543   4.795026  0.591159    1           1      1   \n",
       "4     3111.30  3.186235   5.073828  0.592421    1           1      1   \n",
       "\n",
       "   RB_PlayerType  \n",
       "0              1  \n",
       "1              1  \n",
       "2              1  \n",
       "3              1  \n",
       "4              1  "
      ]
     },
     "execution_count": 105,
     "metadata": {},
     "output_type": "execute_result"
    }
   ],
   "source": [
    "prog.head()"
   ]
  },
  {
   "cell_type": "code",
   "execution_count": 106,
   "metadata": {
    "collapsed": false
   },
   "outputs": [],
   "source": [
    "prog['PlayerType'].replace([1,0], ['Reg', 'Non-Reg'], inplace=True)\n",
    "prog['RB_PlayerType'].replace([1,0], ['Reg', 'Non-Reg'], inplace=True)"
   ]
  },
  {
   "cell_type": "code",
   "execution_count": 83,
   "metadata": {
    "collapsed": false
   },
   "outputs": [
    {
     "data": {
      "image/png": "[encoded data removed]",
      "text/plain": [
       "<matplotlib.figure.Figure at 0x1aa95af1198>"
      ]
     },
     "metadata": {},
     "output_type": "display_data"
    }
   ],
   "source": [
    "f,ax=plt.subplots(figsize=(8,4))\n",
    "sns.countplot('PlayerType', data=prog, palette=\"Blues_d\")\n",
    "ax.set_title('Positive Win Rates')\n",
    "#sns.countplot('RB_PlayerType', data=prog, ax=ax[1])\n",
    "#ax[1].set_title('After Progressive Rakeback')\n",
    "plt.show()"
   ]
  },
  {
   "cell_type": "code",
   "execution_count": 51,
   "metadata": {
    "collapsed": false
   },
   "outputs": [
    {
     "data": {
      "text/html": [
       "<div>\n",
       "<style>\n",
       "    .dataframe thead tr:only-child th {\n",
       "        text-align: right;\n",
       "    }\n",
       "\n",
       "    .dataframe thead th {\n",
       "        text-align: left;\n",
       "    }\n",
       "\n",
       "    .dataframe tbody tr th {\n",
       "        vertical-align: top;\n",
       "    }\n",
       "</style>\n",
       "<table border=\"1\" class=\"dataframe\">\n",
       "  <thead>\n",
       "    <tr style=\"text-align: right;\">\n",
       "      <th></th>\n",
       "      <th>PlayerType</th>\n",
       "    </tr>\n",
       "  </thead>\n",
       "  <tbody>\n",
       "    <tr>\n",
       "      <th>Non-Reg</th>\n",
       "      <td>746</td>\n",
       "    </tr>\n",
       "    <tr>\n",
       "      <th>Reg</th>\n",
       "      <td>254</td>\n",
       "    </tr>\n",
       "  </tbody>\n",
       "</table>\n",
       "</div>"
      ],
      "text/plain": [
       "         PlayerType\n",
       "Non-Reg         746\n",
       "Reg             254"
      ]
     },
     "execution_count": 51,
     "metadata": {},
     "output_type": "execute_result"
    }
   ],
   "source": [
    "prog['PlayerType'].value_counts().to_frame()"
   ]
  },
  {
   "cell_type": "code",
   "execution_count": 55,
   "metadata": {
    "collapsed": false
   },
   "outputs": [
    {
     "data": {
      "text/html": [
       "<div>\n",
       "<style>\n",
       "    .dataframe thead tr:only-child th {\n",
       "        text-align: right;\n",
       "    }\n",
       "\n",
       "    .dataframe thead th {\n",
       "        text-align: left;\n",
       "    }\n",
       "\n",
       "    .dataframe tbody tr th {\n",
       "        vertical-align: top;\n",
       "    }\n",
       "</style>\n",
       "<table border=\"1\" class=\"dataframe\">\n",
       "  <thead>\n",
       "    <tr style=\"text-align: right;\">\n",
       "      <th></th>\n",
       "      <th>RB_PlayerType</th>\n",
       "    </tr>\n",
       "  </thead>\n",
       "  <tbody>\n",
       "    <tr>\n",
       "      <th>Non-Reg</th>\n",
       "      <td>731</td>\n",
       "    </tr>\n",
       "    <tr>\n",
       "      <th>Reg</th>\n",
       "      <td>269</td>\n",
       "    </tr>\n",
       "  </tbody>\n",
       "</table>\n",
       "</div>"
      ],
      "text/plain": [
       "         RB_PlayerType\n",
       "Non-Reg            731\n",
       "Reg                269"
      ]
     },
     "execution_count": 55,
     "metadata": {},
     "output_type": "execute_result"
    }
   ],
   "source": [
    "prog['RB_PlayerType'].value_counts().to_frame()"
   ]
  },
  {
   "cell_type": "code",
   "execution_count": 124,
   "metadata": {
    "collapsed": false
   },
   "outputs": [
    {
     "data": {
      "text/html": [
       "<div>\n",
       "<style>\n",
       "    .dataframe thead tr:only-child th {\n",
       "        text-align: right;\n",
       "    }\n",
       "\n",
       "    .dataframe thead th {\n",
       "        text-align: left;\n",
       "    }\n",
       "\n",
       "    .dataframe tbody tr th {\n",
       "        vertical-align: top;\n",
       "    }\n",
       "</style>\n",
       "<table border=\"1\" class=\"dataframe\">\n",
       "  <thead>\n",
       "    <tr style=\"text-align: right;\">\n",
       "      <th></th>\n",
       "      <th>RB_PlayerType</th>\n",
       "    </tr>\n",
       "  </thead>\n",
       "  <tbody>\n",
       "    <tr>\n",
       "      <th>Reg</th>\n",
       "      <td>1000</td>\n",
       "    </tr>\n",
       "  </tbody>\n",
       "</table>\n",
       "</div>"
      ],
      "text/plain": [
       "     RB_PlayerType\n",
       "Reg           1000"
      ]
     },
     "execution_count": 124,
     "metadata": {},
     "output_type": "execute_result"
    }
   ],
   "source": [
    "flat['RB_PlayerType'].value_counts().to_frame()"
   ]
  },
  {
   "cell_type": "code",
   "execution_count": 60,
   "metadata": {
    "collapsed": false
   },
   "outputs": [
    {
     "data": {
      "image/png": "[encoded data removed]",
      "text/plain": [
       "<matplotlib.figure.Figure at 0x1aa95cc60b8>"
      ]
     },
     "metadata": {},
     "output_type": "display_data"
    }
   ],
   "source": [
    "f,ax=plt.subplots(1,2,figsize=(12,6))\n",
    "prog['Hands'].groupby(prog['PlayerType']).sum().plot.pie(ax=ax[0],autopct='%1.1f%%', shadow=True)\n",
    "ax[0].set_title('Hands Played by Player Type')\n",
    "prog['RakePaid'].groupby(prog['PlayerType']).sum().plot.pie(ax=ax[1],autopct='%1.1f%%', shadow=True)\n",
    "ax[1].set_title('Rake Share by Player Type')\n",
    "plt.show()"
   ]
  },
  {
   "cell_type": "code",
   "execution_count": 33,
   "metadata": {
    "collapsed": false
   },
   "outputs": [
    {
     "data": {
      "text/html": [
       "<div>\n",
       "<style>\n",
       "    .dataframe thead tr:only-child th {\n",
       "        text-align: right;\n",
       "    }\n",
       "\n",
       "    .dataframe thead th {\n",
       "        text-align: left;\n",
       "    }\n",
       "\n",
       "    .dataframe tbody tr th {\n",
       "        vertical-align: top;\n",
       "    }\n",
       "</style>\n",
       "<table border=\"1\" class=\"dataframe\">\n",
       "  <thead>\n",
       "    <tr style=\"text-align: right;\">\n",
       "      <th></th>\n",
       "      <th>Player</th>\n",
       "      <th>Hands</th>\n",
       "      <th>Result</th>\n",
       "      <th>RakePaid</th>\n",
       "      <th>FlatRB</th>\n",
       "      <th>winrate</th>\n",
       "      <th>Rbwinrate</th>\n",
       "      <th>Rbeffect</th>\n",
       "      <th>Reg</th>\n",
       "      <th>RBReg</th>\n",
       "      <th>Avgwinrate</th>\n",
       "      <th>RBAvgwinrate</th>\n",
       "    </tr>\n",
       "  </thead>\n",
       "  <tbody>\n",
       "    <tr>\n",
       "      <th>0</th>\n",
       "      <td>Player 1</td>\n",
       "      <td>298644</td>\n",
       "      <td>2285.47</td>\n",
       "      <td>17668.05</td>\n",
       "      <td>3533.610</td>\n",
       "      <td>0.765282</td>\n",
       "      <td>1.948501</td>\n",
       "      <td>1.546120</td>\n",
       "      <td>1</td>\n",
       "      <td>1</td>\n",
       "      <td>1</td>\n",
       "      <td>1</td>\n",
       "    </tr>\n",
       "    <tr>\n",
       "      <th>1</th>\n",
       "      <td>Player 2</td>\n",
       "      <td>232879</td>\n",
       "      <td>4353.83</td>\n",
       "      <td>14217.46</td>\n",
       "      <td>2843.492</td>\n",
       "      <td>1.869567</td>\n",
       "      <td>3.090584</td>\n",
       "      <td>0.653101</td>\n",
       "      <td>1</td>\n",
       "      <td>1</td>\n",
       "      <td>1</td>\n",
       "      <td>1</td>\n",
       "    </tr>\n",
       "    <tr>\n",
       "      <th>2</th>\n",
       "      <td>Player 3</td>\n",
       "      <td>207342</td>\n",
       "      <td>1398.22</td>\n",
       "      <td>15216.04</td>\n",
       "      <td>3043.208</td>\n",
       "      <td>0.674354</td>\n",
       "      <td>2.142078</td>\n",
       "      <td>2.176487</td>\n",
       "      <td>1</td>\n",
       "      <td>1</td>\n",
       "      <td>1</td>\n",
       "      <td>1</td>\n",
       "    </tr>\n",
       "    <tr>\n",
       "      <th>3</th>\n",
       "      <td>Player 4</td>\n",
       "      <td>183272</td>\n",
       "      <td>5522.98</td>\n",
       "      <td>10412.41</td>\n",
       "      <td>2082.482</td>\n",
       "      <td>3.013543</td>\n",
       "      <td>4.149822</td>\n",
       "      <td>0.377058</td>\n",
       "      <td>1</td>\n",
       "      <td>1</td>\n",
       "      <td>1</td>\n",
       "      <td>1</td>\n",
       "    </tr>\n",
       "    <tr>\n",
       "      <th>4</th>\n",
       "      <td>Player 5</td>\n",
       "      <td>164829</td>\n",
       "      <td>5251.84</td>\n",
       "      <td>10028.26</td>\n",
       "      <td>2005.652</td>\n",
       "      <td>3.186235</td>\n",
       "      <td>4.403043</td>\n",
       "      <td>0.381895</td>\n",
       "      <td>1</td>\n",
       "      <td>1</td>\n",
       "      <td>1</td>\n",
       "      <td>1</td>\n",
       "    </tr>\n",
       "  </tbody>\n",
       "</table>\n",
       "</div>"
      ],
      "text/plain": [
       "     Player   Hands   Result  RakePaid    FlatRB   winrate  Rbwinrate  \\\n",
       "0  Player 1  298644  2285.47  17668.05  3533.610  0.765282   1.948501   \n",
       "1  Player 2  232879  4353.83  14217.46  2843.492  1.869567   3.090584   \n",
       "2  Player 3  207342  1398.22  15216.04  3043.208  0.674354   2.142078   \n",
       "3  Player 4  183272  5522.98  10412.41  2082.482  3.013543   4.149822   \n",
       "4  Player 5  164829  5251.84  10028.26  2005.652  3.186235   4.403043   \n",
       "\n",
       "   Rbeffect  Reg  RBReg  Avgwinrate  RBAvgwinrate  \n",
       "0  1.546120    1      1           1             1  \n",
       "1  0.653101    1      1           1             1  \n",
       "2  2.176487    1      1           1             1  \n",
       "3  0.377058    1      1           1             1  \n",
       "4  0.381895    1      1           1             1  "
      ]
     },
     "execution_count": 33,
     "metadata": {},
     "output_type": "execute_result"
    }
   ],
   "source": [
    "flat.head()"
   ]
  },
  {
   "cell_type": "code",
   "execution_count": 30,
   "metadata": {
    "collapsed": false
   },
   "outputs": [
    {
     "name": "stdout",
     "output_type": "stream",
     "text": [
      "Hands/Year:  5129.792\n",
      "Rake Earned:  358833.51999999984\n",
      "Rakeback:  73173.27999999998\n",
      "Rakeback %:  0.20391985676254554\n",
      "Rake Paid for Winning Players:  752.7667716535437\n",
      "Rake Paid for Losing Players:  224.70611260053602\n",
      "Hands for Winning Players:  11407.417322834646\n",
      "Hands for Losing Players:  2992.3699731903484\n"
     ]
    }
   ],
   "source": [
    "#winning players paid 3x in rake and 4x hands relative to losing players\n",
    "print('Hands/Year: ', data.Hands.mean())\n",
    "print('Rake Earned: ', data.RakePaid.sum())\n",
    "print('Rakeback: ', data.Cumulative.sum())\n",
    "print('Rakeback %: ', data.Cumulative.sum()/data.RakePaid.sum())\n",
    "print('Rake Paid for Winning Players: ', data[data['bb/100']>0].RakePaid.mean())\n",
    "print('Rake Paid for Losing Players: ', data[data['bb/100']<0].RakePaid.mean())\n",
    "print('Hands for Winning Players: ', data[data['bb/100']>0].Hands.mean())\n",
    "print('Hands for Losing Players: ', data[data['bb/100']<0].Hands.mean())"
   ]
  },
  {
   "cell_type": "code",
   "execution_count": 9,
   "metadata": {
    "collapsed": false
   },
   "outputs": [
    {
     "data": {
      "text/html": [
       "<div>\n",
       "<style>\n",
       "    .dataframe thead tr:only-child th {\n",
       "        text-align: right;\n",
       "    }\n",
       "\n",
       "    .dataframe thead th {\n",
       "        text-align: left;\n",
       "    }\n",
       "\n",
       "    .dataframe tbody tr th {\n",
       "        vertical-align: top;\n",
       "    }\n",
       "</style>\n",
       "<table border=\"1\" class=\"dataframe\">\n",
       "  <thead>\n",
       "    <tr style=\"text-align: right;\">\n",
       "      <th></th>\n",
       "      <th>Hands</th>\n",
       "      <th>Result</th>\n",
       "      <th>Rake Paid</th>\n",
       "      <th>1k Rakeback</th>\n",
       "      <th>5k Rakeback</th>\n",
       "      <th>&gt;5k Rakeback</th>\n",
       "      <th>Cumulative</th>\n",
       "      <th>bb/100</th>\n",
       "      <th>(bb+rb)/100</th>\n",
       "      <th>rb effect</th>\n",
       "    </tr>\n",
       "  </thead>\n",
       "  <tbody>\n",
       "    <tr>\n",
       "      <th>count</th>\n",
       "      <td>1000.000000</td>\n",
       "      <td>1000.000000</td>\n",
       "      <td>1000.000000</td>\n",
       "      <td>1000.000000</td>\n",
       "      <td>1000.000000</td>\n",
       "      <td>1000.000000</td>\n",
       "      <td>1000.000000</td>\n",
       "      <td>1000.000000</td>\n",
       "      <td>1000.000000</td>\n",
       "      <td>1000.000000</td>\n",
       "    </tr>\n",
       "    <tr>\n",
       "      <th>mean</th>\n",
       "      <td>5129.792000</td>\n",
       "      <td>-196.551800</td>\n",
       "      <td>358.833520</td>\n",
       "      <td>17.601854</td>\n",
       "      <td>29.258527</td>\n",
       "      <td>26.312348</td>\n",
       "      <td>73.173280</td>\n",
       "      <td>-24.203464</td>\n",
       "      <td>-23.151552</td>\n",
       "      <td>0.173481</td>\n",
       "    </tr>\n",
       "    <tr>\n",
       "      <th>std</th>\n",
       "      <td>20551.016205</td>\n",
       "      <td>795.223957</td>\n",
       "      <td>1303.798594</td>\n",
       "      <td>25.251086</td>\n",
       "      <td>147.950751</td>\n",
       "      <td>275.089295</td>\n",
       "      <td>398.125996</td>\n",
       "      <td>43.471369</td>\n",
       "      <td>43.422178</td>\n",
       "      <td>0.714520</td>\n",
       "    </tr>\n",
       "    <tr>\n",
       "      <th>min</th>\n",
       "      <td>295.000000</td>\n",
       "      <td>-5888.730000</td>\n",
       "      <td>7.830000</td>\n",
       "      <td>0.783000</td>\n",
       "      <td>0.000000</td>\n",
       "      <td>0.000000</td>\n",
       "      <td>0.780000</td>\n",
       "      <td>-277.457143</td>\n",
       "      <td>-275.302381</td>\n",
       "      <td>0.002516</td>\n",
       "    </tr>\n",
       "    <tr>\n",
       "      <th>25%</th>\n",
       "      <td>430.000000</td>\n",
       "      <td>-404.495000</td>\n",
       "      <td>42.435000</td>\n",
       "      <td>4.243500</td>\n",
       "      <td>0.000000</td>\n",
       "      <td>0.000000</td>\n",
       "      <td>4.240000</td>\n",
       "      <td>-45.122178</td>\n",
       "      <td>-44.301938</td>\n",
       "      <td>0.019334</td>\n",
       "    </tr>\n",
       "    <tr>\n",
       "      <th>50%</th>\n",
       "      <td>712.000000</td>\n",
       "      <td>-158.085000</td>\n",
       "      <td>75.805000</td>\n",
       "      <td>7.580500</td>\n",
       "      <td>0.000000</td>\n",
       "      <td>0.000000</td>\n",
       "      <td>7.585000</td>\n",
       "      <td>-18.198349</td>\n",
       "      <td>-17.091965</td>\n",
       "      <td>0.035055</td>\n",
       "    </tr>\n",
       "    <tr>\n",
       "      <th>75%</th>\n",
       "      <td>1687.250000</td>\n",
       "      <td>4.557500</td>\n",
       "      <td>165.450000</td>\n",
       "      <td>16.545000</td>\n",
       "      <td>0.000000</td>\n",
       "      <td>0.000000</td>\n",
       "      <td>16.545000</td>\n",
       "      <td>0.343069</td>\n",
       "      <td>1.228374</td>\n",
       "      <td>0.090422</td>\n",
       "    </tr>\n",
       "    <tr>\n",
       "      <th>max</th>\n",
       "      <td>298644.000000</td>\n",
       "      <td>7424.760000</td>\n",
       "      <td>17668.050000</td>\n",
       "      <td>100.000000</td>\n",
       "      <td>1000.000000</td>\n",
       "      <td>5067.220000</td>\n",
       "      <td>6167.220000</td>\n",
       "      <td>118.393684</td>\n",
       "      <td>120.821053</td>\n",
       "      <td>15.858414</td>\n",
       "    </tr>\n",
       "  </tbody>\n",
       "</table>\n",
       "</div>"
      ],
      "text/plain": [
       "               Hands       Result     Rake Paid  1k Rakeback  5k Rakeback  \\\n",
       "count    1000.000000  1000.000000   1000.000000  1000.000000  1000.000000   \n",
       "mean     5129.792000  -196.551800    358.833520    17.601854    29.258527   \n",
       "std     20551.016205   795.223957   1303.798594    25.251086   147.950751   \n",
       "min       295.000000 -5888.730000      7.830000     0.783000     0.000000   \n",
       "25%       430.000000  -404.495000     42.435000     4.243500     0.000000   \n",
       "50%       712.000000  -158.085000     75.805000     7.580500     0.000000   \n",
       "75%      1687.250000     4.557500    165.450000    16.545000     0.000000   \n",
       "max    298644.000000  7424.760000  17668.050000   100.000000  1000.000000   \n",
       "\n",
       "       >5k Rakeback   Cumulative       bb/100  (bb+rb)/100    rb effect  \n",
       "count   1000.000000  1000.000000  1000.000000  1000.000000  1000.000000  \n",
       "mean      26.312348    73.173280   -24.203464   -23.151552     0.173481  \n",
       "std      275.089295   398.125996    43.471369    43.422178     0.714520  \n",
       "min        0.000000     0.780000  -277.457143  -275.302381     0.002516  \n",
       "25%        0.000000     4.240000   -45.122178   -44.301938     0.019334  \n",
       "50%        0.000000     7.585000   -18.198349   -17.091965     0.035055  \n",
       "75%        0.000000    16.545000     0.343069     1.228374     0.090422  \n",
       "max     5067.220000  6167.220000   118.393684   120.821053    15.858414  "
      ]
     },
     "execution_count": 9,
     "metadata": {},
     "output_type": "execute_result"
    }
   ],
   "source": [
    "data.describe()\n",
    "#massive variability in hands/player could be cause for flatter rakeback system to raise floor->rake smaller % at big stakes\n",
    "#high variability in rake paid as well, with mean well below 1k"
   ]
  },
  {
   "cell_type": "code",
   "execution_count": 123,
   "metadata": {
    "collapsed": false
   },
   "outputs": [
    {
     "data": {
      "text/html": [
       "<div>\n",
       "<style>\n",
       "    .dataframe thead tr:only-child th {\n",
       "        text-align: right;\n",
       "    }\n",
       "\n",
       "    .dataframe thead th {\n",
       "        text-align: left;\n",
       "    }\n",
       "\n",
       "    .dataframe tbody tr th {\n",
       "        vertical-align: top;\n",
       "    }\n",
       "</style>\n",
       "<table border=\"1\" class=\"dataframe\">\n",
       "  <thead>\n",
       "    <tr style=\"text-align: right;\">\n",
       "      <th></th>\n",
       "      <th>Hands</th>\n",
       "      <th>Result</th>\n",
       "      <th>RakePaid</th>\n",
       "      <th>FlatRB</th>\n",
       "      <th>winrate</th>\n",
       "      <th>Rbwinrate</th>\n",
       "      <th>Rbeffect</th>\n",
       "      <th>Reg</th>\n",
       "      <th>RBReg</th>\n",
       "    </tr>\n",
       "  </thead>\n",
       "  <tbody>\n",
       "    <tr>\n",
       "      <th>count</th>\n",
       "      <td>1000.000000</td>\n",
       "      <td>1000.000000</td>\n",
       "      <td>1000.000000</td>\n",
       "      <td>1000.000000</td>\n",
       "      <td>1000.000000</td>\n",
       "      <td>1000.000000</td>\n",
       "      <td>1000.000000</td>\n",
       "      <td>1000.000000</td>\n",
       "      <td>1000.000000</td>\n",
       "    </tr>\n",
       "    <tr>\n",
       "      <th>mean</th>\n",
       "      <td>5129.792000</td>\n",
       "      <td>-196.551800</td>\n",
       "      <td>358.833520</td>\n",
       "      <td>71.766704</td>\n",
       "      <td>-24.203464</td>\n",
       "      <td>-22.179510</td>\n",
       "      <td>0.283279</td>\n",
       "      <td>0.254000</td>\n",
       "      <td>0.286000</td>\n",
       "    </tr>\n",
       "    <tr>\n",
       "      <th>std</th>\n",
       "      <td>20551.016205</td>\n",
       "      <td>795.223957</td>\n",
       "      <td>1303.798594</td>\n",
       "      <td>260.759719</td>\n",
       "      <td>43.471369</td>\n",
       "      <td>43.333087</td>\n",
       "      <td>1.042956</td>\n",
       "      <td>0.435515</td>\n",
       "      <td>0.452115</td>\n",
       "    </tr>\n",
       "    <tr>\n",
       "      <th>min</th>\n",
       "      <td>295.000000</td>\n",
       "      <td>-5888.730000</td>\n",
       "      <td>7.830000</td>\n",
       "      <td>1.566000</td>\n",
       "      <td>-277.457143</td>\n",
       "      <td>-273.149048</td>\n",
       "      <td>0.005018</td>\n",
       "      <td>0.000000</td>\n",
       "      <td>0.000000</td>\n",
       "    </tr>\n",
       "    <tr>\n",
       "      <th>25%</th>\n",
       "      <td>430.000000</td>\n",
       "      <td>-404.495000</td>\n",
       "      <td>42.435000</td>\n",
       "      <td>8.487000</td>\n",
       "      <td>-45.122178</td>\n",
       "      <td>-43.227486</td>\n",
       "      <td>0.038517</td>\n",
       "      <td>0.000000</td>\n",
       "      <td>0.000000</td>\n",
       "    </tr>\n",
       "    <tr>\n",
       "      <th>50%</th>\n",
       "      <td>712.000000</td>\n",
       "      <td>-158.085000</td>\n",
       "      <td>75.805000</td>\n",
       "      <td>15.161000</td>\n",
       "      <td>-18.198349</td>\n",
       "      <td>-16.176859</td>\n",
       "      <td>0.070168</td>\n",
       "      <td>0.000000</td>\n",
       "      <td>0.000000</td>\n",
       "    </tr>\n",
       "    <tr>\n",
       "      <th>75%</th>\n",
       "      <td>1687.250000</td>\n",
       "      <td>4.557500</td>\n",
       "      <td>165.450000</td>\n",
       "      <td>33.090000</td>\n",
       "      <td>0.343069</td>\n",
       "      <td>1.873058</td>\n",
       "      <td>0.177984</td>\n",
       "      <td>1.000000</td>\n",
       "      <td>1.000000</td>\n",
       "    </tr>\n",
       "    <tr>\n",
       "      <th>max</th>\n",
       "      <td>298644.000000</td>\n",
       "      <td>7424.760000</td>\n",
       "      <td>17668.050000</td>\n",
       "      <td>3533.610000</td>\n",
       "      <td>118.393684</td>\n",
       "      <td>123.248842</td>\n",
       "      <td>20.833333</td>\n",
       "      <td>1.000000</td>\n",
       "      <td>1.000000</td>\n",
       "    </tr>\n",
       "  </tbody>\n",
       "</table>\n",
       "</div>"
      ],
      "text/plain": [
       "               Hands       Result      RakePaid       FlatRB      winrate  \\\n",
       "count    1000.000000  1000.000000   1000.000000  1000.000000  1000.000000   \n",
       "mean     5129.792000  -196.551800    358.833520    71.766704   -24.203464   \n",
       "std     20551.016205   795.223957   1303.798594   260.759719    43.471369   \n",
       "min       295.000000 -5888.730000      7.830000     1.566000  -277.457143   \n",
       "25%       430.000000  -404.495000     42.435000     8.487000   -45.122178   \n",
       "50%       712.000000  -158.085000     75.805000    15.161000   -18.198349   \n",
       "75%      1687.250000     4.557500    165.450000    33.090000     0.343069   \n",
       "max    298644.000000  7424.760000  17668.050000  3533.610000   118.393684   \n",
       "\n",
       "         Rbwinrate     Rbeffect          Reg        RBReg  \n",
       "count  1000.000000  1000.000000  1000.000000  1000.000000  \n",
       "mean    -22.179510     0.283279     0.254000     0.286000  \n",
       "std      43.333087     1.042956     0.435515     0.452115  \n",
       "min    -273.149048     0.005018     0.000000     0.000000  \n",
       "25%     -43.227486     0.038517     0.000000     0.000000  \n",
       "50%     -16.176859     0.070168     0.000000     0.000000  \n",
       "75%       1.873058     0.177984     1.000000     1.000000  \n",
       "max     123.248842    20.833333     1.000000     1.000000  "
      ]
     },
     "execution_count": 123,
     "metadata": {},
     "output_type": "execute_result"
    }
   ],
   "source": [
    "flat.describe()"
   ]
  },
  {
   "cell_type": "code",
   "execution_count": 25,
   "metadata": {
    "collapsed": false
   },
   "outputs": [
    {
     "data": {
      "text/html": [
       "<div>\n",
       "<style>\n",
       "    .dataframe thead tr:only-child th {\n",
       "        text-align: right;\n",
       "    }\n",
       "\n",
       "    .dataframe thead th {\n",
       "        text-align: left;\n",
       "    }\n",
       "\n",
       "    .dataframe tbody tr th {\n",
       "        vertical-align: top;\n",
       "    }\n",
       "</style>\n",
       "<table border=\"1\" class=\"dataframe\">\n",
       "  <thead>\n",
       "    <tr style=\"text-align: right;\">\n",
       "      <th></th>\n",
       "      <th>RakePaid</th>\n",
       "    </tr>\n",
       "    <tr>\n",
       "      <th>bb/100_range</th>\n",
       "      <th></th>\n",
       "    </tr>\n",
       "  </thead>\n",
       "  <tbody>\n",
       "    <tr>\n",
       "      <th>(-277.458, -70.799]</th>\n",
       "      <td>91.75640</td>\n",
       "    </tr>\n",
       "    <tr>\n",
       "      <th>(-70.799, -45.122]</th>\n",
       "      <td>80.92224</td>\n",
       "    </tr>\n",
       "    <tr>\n",
       "      <th>(-45.122, -29.5]</th>\n",
       "      <td>103.39976</td>\n",
       "    </tr>\n",
       "    <tr>\n",
       "      <th>(-29.5, -18.198]</th>\n",
       "      <td>147.33752</td>\n",
       "    </tr>\n",
       "    <tr>\n",
       "      <th>(-18.198, -8.549]</th>\n",
       "      <td>195.83352</td>\n",
       "    </tr>\n",
       "    <tr>\n",
       "      <th>(-8.549, 0.343]</th>\n",
       "      <td>761.59328</td>\n",
       "    </tr>\n",
       "    <tr>\n",
       "      <th>(0.343, 14.779]</th>\n",
       "      <td>1386.03624</td>\n",
       "    </tr>\n",
       "    <tr>\n",
       "      <th>(14.779, 118.394]</th>\n",
       "      <td>103.78920</td>\n",
       "    </tr>\n",
       "  </tbody>\n",
       "</table>\n",
       "</div>"
      ],
      "text/plain": [
       "                       RakePaid\n",
       "bb/100_range                   \n",
       "(-277.458, -70.799]    91.75640\n",
       "(-70.799, -45.122]     80.92224\n",
       "(-45.122, -29.5]      103.39976\n",
       "(-29.5, -18.198]      147.33752\n",
       "(-18.198, -8.549]     195.83352\n",
       "(-8.549, 0.343]       761.59328\n",
       "(0.343, 14.779]      1386.03624\n",
       "(14.779, 118.394]     103.78920"
      ]
     },
     "execution_count": 25,
     "metadata": {},
     "output_type": "execute_result"
    }
   ],
   "source": [
    "#is there a correlation btw rake paid and results- meaning better players are paying higher % of rake-flatter rakeback\n",
    "data['bb/100_range'] = pd.qcut(data['bb/100'], 8)\n",
    "data.groupby(['bb/100_range'])['RakePaid'].mean().to_frame()"
   ]
  },
  {
   "cell_type": "code",
   "execution_count": 66,
   "metadata": {
    "collapsed": false
   },
   "outputs": [
    {
     "data": {
      "text/html": [
       "<div>\n",
       "<style>\n",
       "    .dataframe thead tr:only-child th {\n",
       "        text-align: right;\n",
       "    }\n",
       "\n",
       "    .dataframe thead th {\n",
       "        text-align: left;\n",
       "    }\n",
       "\n",
       "    .dataframe tbody tr th {\n",
       "        vertical-align: top;\n",
       "    }\n",
       "</style>\n",
       "<table border=\"1\" class=\"dataframe\">\n",
       "  <thead>\n",
       "    <tr style=\"text-align: right;\">\n",
       "      <th></th>\n",
       "      <th>RakePaid</th>\n",
       "    </tr>\n",
       "    <tr>\n",
       "      <th>Tier</th>\n",
       "      <th></th>\n",
       "    </tr>\n",
       "  </thead>\n",
       "  <tbody>\n",
       "    <tr>\n",
       "      <th>(294.999, 360.714]</th>\n",
       "      <td>36.225664</td>\n",
       "    </tr>\n",
       "    <tr>\n",
       "      <th>(360.714, 457.429]</th>\n",
       "      <td>46.790070</td>\n",
       "    </tr>\n",
       "    <tr>\n",
       "      <th>(457.429, 600.143]</th>\n",
       "      <td>57.665105</td>\n",
       "    </tr>\n",
       "    <tr>\n",
       "      <th>(600.143, 863.857]</th>\n",
       "      <td>77.479366</td>\n",
       "    </tr>\n",
       "    <tr>\n",
       "      <th>(863.857, 1420.429]</th>\n",
       "      <td>116.992797</td>\n",
       "    </tr>\n",
       "    <tr>\n",
       "      <th>(1420.429, 3640.143]</th>\n",
       "      <td>191.812238</td>\n",
       "    </tr>\n",
       "    <tr>\n",
       "      <th>(3640.143, 298644.0]</th>\n",
       "      <td>1982.901888</td>\n",
       "    </tr>\n",
       "  </tbody>\n",
       "</table>\n",
       "</div>"
      ],
      "text/plain": [
       "                         RakePaid\n",
       "Tier                             \n",
       "(294.999, 360.714]      36.225664\n",
       "(360.714, 457.429]      46.790070\n",
       "(457.429, 600.143]      57.665105\n",
       "(600.143, 863.857]      77.479366\n",
       "(863.857, 1420.429]    116.992797\n",
       "(1420.429, 3640.143]   191.812238\n",
       "(3640.143, 298644.0]  1982.901888"
      ]
     },
     "execution_count": 66,
     "metadata": {},
     "output_type": "execute_result"
    }
   ],
   "source": [
    "prog['Tier'] = pd.qcut(prog['Hands'], 7)\n",
    "prog.groupby(['Tier'])['RakePaid'].mean().to_frame()"
   ]
  },
  {
   "cell_type": "code",
   "execution_count": 107,
   "metadata": {
    "collapsed": true
   },
   "outputs": [],
   "source": [
    "prog['Tier'] = 0\n",
    "prog.loc[(prog['Hands']>294)&(prog['Hands']<=360.714),'Tier']=0\n",
    "prog.loc[(prog['Hands']>360.714)&(prog['Hands']<=457.429),'Tier']=1\n",
    "prog.loc[(prog['Hands']>457.429)&(prog['Hands']<=600.143),'Tier']=2\n",
    "prog.loc[(prog['Hands']>600.143)&(prog['Hands']<=863.857),'Tier']=3\n",
    "prog.loc[(prog['Hands']>863.857)&(prog['Hands']<=1420.429),'Tier']=4\n",
    "prog.loc[(prog['Hands']>1420.429)&(prog['Hands']<=3640.143),'Tier']=5\n",
    "prog.loc[(prog['Hands']>3640.143)&(prog['Hands']<=298644),'Tier']=6"
   ]
  },
  {
   "cell_type": "code",
   "execution_count": 108,
   "metadata": {
    "collapsed": true
   },
   "outputs": [],
   "source": [
    "prog['Tier'].replace([0,1,2,3,4,5,6], ['Bronze', 'Silver', 'Gold', 'Platinum', 'Diamond', 'Supernova', 'Supernova Elite'], inplace=True)"
   ]
  },
  {
   "cell_type": "code",
   "execution_count": 109,
   "metadata": {
    "collapsed": false
   },
   "outputs": [
    {
     "data": {
      "text/html": [
       "<div>\n",
       "<style>\n",
       "    .dataframe thead tr:only-child th {\n",
       "        text-align: right;\n",
       "    }\n",
       "\n",
       "    .dataframe thead th {\n",
       "        text-align: left;\n",
       "    }\n",
       "\n",
       "    .dataframe tbody tr th {\n",
       "        vertical-align: top;\n",
       "    }\n",
       "</style>\n",
       "<table border=\"1\" class=\"dataframe\">\n",
       "  <thead>\n",
       "    <tr style=\"text-align: right;\">\n",
       "      <th></th>\n",
       "      <th>Player</th>\n",
       "      <th>Hands</th>\n",
       "      <th>Result</th>\n",
       "      <th>RakePaid</th>\n",
       "      <th>1kRakeback</th>\n",
       "      <th>5kRakeback</th>\n",
       "      <th>&gt;5kRakeback</th>\n",
       "      <th>Cumulative</th>\n",
       "      <th>winrate</th>\n",
       "      <th>Rbwinrate</th>\n",
       "      <th>rbeffect</th>\n",
       "      <th>Reg</th>\n",
       "      <th>PlayerType</th>\n",
       "      <th>RBReg</th>\n",
       "      <th>RB_PlayerType</th>\n",
       "      <th>Tier</th>\n",
       "    </tr>\n",
       "  </thead>\n",
       "  <tbody>\n",
       "    <tr>\n",
       "      <th>0</th>\n",
       "      <td>Player 1</td>\n",
       "      <td>298644</td>\n",
       "      <td>2285.47</td>\n",
       "      <td>17668.05</td>\n",
       "      <td>100.0</td>\n",
       "      <td>1000.0</td>\n",
       "      <td>5067.220</td>\n",
       "      <td>6167.22</td>\n",
       "      <td>0.765282</td>\n",
       "      <td>2.830357</td>\n",
       "      <td>2.698447</td>\n",
       "      <td>1</td>\n",
       "      <td>Reg</td>\n",
       "      <td>1</td>\n",
       "      <td>Reg</td>\n",
       "      <td>Supernova Elite</td>\n",
       "    </tr>\n",
       "    <tr>\n",
       "      <th>1</th>\n",
       "      <td>Player 2</td>\n",
       "      <td>232879</td>\n",
       "      <td>4353.83</td>\n",
       "      <td>14217.46</td>\n",
       "      <td>100.0</td>\n",
       "      <td>1000.0</td>\n",
       "      <td>3686.984</td>\n",
       "      <td>4786.98</td>\n",
       "      <td>1.869567</td>\n",
       "      <td>3.925133</td>\n",
       "      <td>1.099487</td>\n",
       "      <td>1</td>\n",
       "      <td>Reg</td>\n",
       "      <td>1</td>\n",
       "      <td>Reg</td>\n",
       "      <td>Supernova Elite</td>\n",
       "    </tr>\n",
       "    <tr>\n",
       "      <th>2</th>\n",
       "      <td>Player 3</td>\n",
       "      <td>207342</td>\n",
       "      <td>1398.22</td>\n",
       "      <td>15216.04</td>\n",
       "      <td>100.0</td>\n",
       "      <td>1000.0</td>\n",
       "      <td>4086.416</td>\n",
       "      <td>5186.42</td>\n",
       "      <td>0.674354</td>\n",
       "      <td>3.175739</td>\n",
       "      <td>3.709302</td>\n",
       "      <td>1</td>\n",
       "      <td>Reg</td>\n",
       "      <td>1</td>\n",
       "      <td>Reg</td>\n",
       "      <td>Supernova Elite</td>\n",
       "    </tr>\n",
       "    <tr>\n",
       "      <th>3</th>\n",
       "      <td>Player 4</td>\n",
       "      <td>183272</td>\n",
       "      <td>5522.98</td>\n",
       "      <td>10412.41</td>\n",
       "      <td>100.0</td>\n",
       "      <td>1000.0</td>\n",
       "      <td>2164.964</td>\n",
       "      <td>3264.96</td>\n",
       "      <td>3.013543</td>\n",
       "      <td>4.795026</td>\n",
       "      <td>0.591159</td>\n",
       "      <td>1</td>\n",
       "      <td>Reg</td>\n",
       "      <td>1</td>\n",
       "      <td>Reg</td>\n",
       "      <td>Supernova Elite</td>\n",
       "    </tr>\n",
       "    <tr>\n",
       "      <th>4</th>\n",
       "      <td>Player 5</td>\n",
       "      <td>164829</td>\n",
       "      <td>5251.84</td>\n",
       "      <td>10028.26</td>\n",
       "      <td>100.0</td>\n",
       "      <td>1000.0</td>\n",
       "      <td>2011.304</td>\n",
       "      <td>3111.30</td>\n",
       "      <td>3.186235</td>\n",
       "      <td>5.073828</td>\n",
       "      <td>0.592421</td>\n",
       "      <td>1</td>\n",
       "      <td>Reg</td>\n",
       "      <td>1</td>\n",
       "      <td>Reg</td>\n",
       "      <td>Supernova Elite</td>\n",
       "    </tr>\n",
       "  </tbody>\n",
       "</table>\n",
       "</div>"
      ],
      "text/plain": [
       "     Player   Hands   Result  RakePaid  1kRakeback  5kRakeback  >5kRakeback  \\\n",
       "0  Player 1  298644  2285.47  17668.05       100.0      1000.0     5067.220   \n",
       "1  Player 2  232879  4353.83  14217.46       100.0      1000.0     3686.984   \n",
       "2  Player 3  207342  1398.22  15216.04       100.0      1000.0     4086.416   \n",
       "3  Player 4  183272  5522.98  10412.41       100.0      1000.0     2164.964   \n",
       "4  Player 5  164829  5251.84  10028.26       100.0      1000.0     2011.304   \n",
       "\n",
       "   Cumulative   winrate  Rbwinrate  rbeffect  Reg PlayerType  RBReg  \\\n",
       "0     6167.22  0.765282   2.830357  2.698447    1        Reg      1   \n",
       "1     4786.98  1.869567   3.925133  1.099487    1        Reg      1   \n",
       "2     5186.42  0.674354   3.175739  3.709302    1        Reg      1   \n",
       "3     3264.96  3.013543   4.795026  0.591159    1        Reg      1   \n",
       "4     3111.30  3.186235   5.073828  0.592421    1        Reg      1   \n",
       "\n",
       "  RB_PlayerType             Tier  \n",
       "0           Reg  Supernova Elite  \n",
       "1           Reg  Supernova Elite  \n",
       "2           Reg  Supernova Elite  \n",
       "3           Reg  Supernova Elite  \n",
       "4           Reg  Supernova Elite  "
      ]
     },
     "execution_count": 109,
     "metadata": {},
     "output_type": "execute_result"
    }
   ],
   "source": [
    "prog.head()"
   ]
  },
  {
   "cell_type": "code",
   "execution_count": 122,
   "metadata": {
    "collapsed": false
   },
   "outputs": [
    {
     "data": {
      "image/png": "[encoded data removed]",
      "text/plain": [
       "<matplotlib.figure.Figure at 0x1aa95da1240>"
      ]
     },
     "metadata": {},
     "output_type": "display_data"
    }
   ],
   "source": [
    "f,ax=plt.subplots(figsize=(8,4))\n",
    "sns.countplot('Tier', data=prog, palette=\"Blues_d\")\n",
    "ax.set_title('Player Categories')\n",
    "#sns.countplot('RB_PlayerType', data=prog, ax=ax[1])\n",
    "#ax[1].set_title('After Progressive Rakeback')\n",
    "plt.show()"
   ]
  },
  {
   "cell_type": "code",
   "execution_count": 110,
   "metadata": {
    "collapsed": false
   },
   "outputs": [
    {
     "name": "stdout",
     "output_type": "stream",
     "text": [
      "[-34.61552471596502, -31.002186885237762, -30.674962617636364, -26.700942368866198, -22.87743297233566, -18.789806657762234, -4.780859611342656]\n"
     ]
    }
   ],
   "source": [
    "tiers = ['Bronze', 'Silver', 'Gold', 'Platinum', 'Diamond', 'Supernova', 'Supernova Elite']\n",
    "wr = []\n",
    "wr.append(prog[prog['Tier']=='Bronze'].winrate.mean())\n",
    "wr.append(prog[prog['Tier']=='Silver'].winrate.mean())\n",
    "wr.append(prog[prog['Tier']=='Gold'].winrate.mean())\n",
    "wr.append(prog[prog['Tier']=='Platinum'].winrate.mean())\n",
    "wr.append(prog[prog['Tier']=='Diamond'].winrate.mean())\n",
    "wr.append(prog[prog['Tier']=='Supernova'].winrate.mean())\n",
    "wr.append(prog[prog['Tier']=='Supernova Elite'].winrate.mean())\n",
    "print(wr)"
   ]
  },
  {
   "cell_type": "code",
   "execution_count": 112,
   "metadata": {
    "collapsed": false
   },
   "outputs": [
    {
     "data": {
      "image/png": "[encoded data removed]",
      "text/plain": [
       "<matplotlib.figure.Figure at 0x1aa95bfbc18>"
      ]
     },
     "metadata": {},
     "output_type": "display_data"
    }
   ],
   "source": [
    "tier_wr = pd.DataFrame({'Tier': tiers, 'Win Rates': wr})\n",
    "f,ax=plt.subplots(figsize=(9,5))\n",
    "sns.barplot('Win Rates', 'Tier', data=tier_wr, palette=\"Blues_d\")\n",
    "ax.set_title('Average Win Rates')\n",
    "plt.show()"
   ]
  },
  {
   "cell_type": "code",
   "execution_count": 120,
   "metadata": {
    "collapsed": false
   },
   "outputs": [
    {
     "name": "stdout",
     "output_type": "stream",
     "text": [
      "[325.3636363636364, 405.958041958042, 523.3566433566433, 718.1478873239437, 1097.7132867132866, 2228.1188811188813, 30579.034965034964]\n"
     ]
    }
   ],
   "source": [
    "hands=[]\n",
    "hands.append(prog[prog['Tier']=='Bronze'].Hands.mean())\n",
    "hands.append(prog[prog['Tier']=='Silver'].Hands.mean())\n",
    "hands.append(prog[prog['Tier']=='Gold'].Hands.mean())\n",
    "hands.append(prog[prog['Tier']=='Platinum'].Hands.mean())\n",
    "hands.append(prog[prog['Tier']=='Diamond'].Hands.mean())\n",
    "hands.append(prog[prog['Tier']=='Supernova'].Hands.mean())\n",
    "hands.append(prog[prog['Tier']=='Supernova Elite'].Hands.mean())\n",
    "print(hands)"
   ]
  },
  {
   "cell_type": "code",
   "execution_count": 121,
   "metadata": {
    "collapsed": false
   },
   "outputs": [
    {
     "data": {
      "image/png": "[encoded data removed]",
      "text/plain": [
       "<matplotlib.figure.Figure at 0x1aa95cd8cf8>"
      ]
     },
     "metadata": {},
     "output_type": "display_data"
    }
   ],
   "source": [
    "tier_hands = pd.DataFrame({'Tier': tiers, 'Hands Played': hands})\n",
    "f,ax=plt.subplots(figsize=(9,5))\n",
    "sns.barplot('Tier', 'Hands Played', data=tier_hands, palette=\"Blues_d\")\n",
    "ax.set_title('Average Hands Played')\n",
    "plt.show()"
   ]
  },
  {
   "cell_type": "code",
   "execution_count": 111,
   "metadata": {
    "collapsed": false
   },
   "outputs": [
    {
     "name": "stdout",
     "output_type": "stream",
     "text": [
      "[33, 36, 34, 30, 37, 27, 57]\n"
     ]
    }
   ],
   "source": [
    "win = []\n",
    "win.append(prog[prog['Tier']=='Bronze'].Reg.sum())\n",
    "win.append(prog[prog['Tier']=='Silver'].Reg.sum())\n",
    "win.append(prog[prog['Tier']=='Gold'].Reg.sum())\n",
    "win.append(prog[prog['Tier']=='Platinum'].Reg.sum())\n",
    "win.append(prog[prog['Tier']=='Diamond'].Reg.sum())\n",
    "win.append(prog[prog['Tier']=='Supernova'].Reg.sum())\n",
    "win.append(prog[prog['Tier']=='Supernova Elite'].Reg.sum())\n",
    "print(win)"
   ]
  },
  {
   "cell_type": "code",
   "execution_count": 118,
   "metadata": {
    "collapsed": false
   },
   "outputs": [
    {
     "data": {
      "image/png": "[encoded data removed]",
      "text/plain": [
       "<matplotlib.figure.Figure at 0x1aa95ec5be0>"
      ]
     },
     "metadata": {},
     "output_type": "display_data"
    }
   ],
   "source": [
    "lose=[110,107,109,113,106,116,86]\n",
    "tier_win = pd.DataFrame({'Tier': tiers, 'Winning Players': win})\n",
    "tier_lose = pd.DataFrame({'Tier': tiers, 'Losing Players': lose})\n",
    "f,ax=plt.subplots(1,2,figsize=(18,6))\n",
    "sns.barplot('Tier', 'Winning Players', data=tier_win, ax=ax[0], palette=\"Blues_d\")\n",
    "ax[0].set_title('Winning Players by Group')\n",
    "sns.barplot('Tier', 'Losing Players', data=tier_lose, ax=ax[1], palette=\"Blues_d\")\n",
    "ax[1].set_title('Losing Players by Group')\n",
    "plt.show()"
   ]
  },
  {
   "cell_type": "code",
   "execution_count": 86,
   "metadata": {
    "collapsed": false
   },
   "outputs": [
    {
     "name": "stdout",
     "output_type": "stream",
     "text": [
      "[-33.49793645663637, -29.848435851321693, -29.5781617909021, -25.624847867612687, -21.812137828055942, -17.915722377216778, -3.8009142374895095]\n"
     ]
    }
   ],
   "source": [
    "rb_wr=[]\n",
    "rb_wr.append(prog[prog['Tier']=='Bronze'].Rbwinrate.mean())\n",
    "rb_wr.append(prog[prog['Tier']=='Silver'].Rbwinrate.mean())\n",
    "rb_wr.append(prog[prog['Tier']=='Gold'].Rbwinrate.mean())\n",
    "rb_wr.append(prog[prog['Tier']=='Platinum'].Rbwinrate.mean())\n",
    "rb_wr.append(prog[prog['Tier']=='Diamond'].Rbwinrate.mean())\n",
    "rb_wr.append(prog[prog['Tier']=='Supernova'].Rbwinrate.mean())\n",
    "rb_wr.append(prog[prog['Tier']=='Supernova Elite'].Rbwinrate.mean())\n",
    "print(rb_wr)"
   ]
  },
  {
   "cell_type": "code",
   "execution_count": 87,
   "metadata": {
    "collapsed": false
   },
   "outputs": [
    {
     "name": "stdout",
     "output_type": "stream",
     "text": [
      "[0.13476797956643355, 0.06144573837762239, 0.0597909518601399, 0.16317868954929576, 0.11535884686013986, 0.13001090333566437, 0.5497397385454543]\n"
     ]
    }
   ],
   "source": [
    "prog_rb_effect = []\n",
    "prog_rb_effect.append(prog[prog['Tier']=='Bronze'].rbeffect.mean())\n",
    "prog_rb_effect.append(prog[prog['Tier']=='Silver'].rbeffect.mean())\n",
    "prog_rb_effect.append(prog[prog['Tier']=='Gold'].rbeffect.mean())\n",
    "prog_rb_effect.append(prog[prog['Tier']=='Platinum'].rbeffect.mean())\n",
    "prog_rb_effect.append(prog[prog['Tier']=='Diamond'].rbeffect.mean())\n",
    "prog_rb_effect.append(prog[prog['Tier']=='Supernova'].rbeffect.mean())\n",
    "prog_rb_effect.append(prog[prog['Tier']=='Supernova Elite'].rbeffect.mean())\n",
    "print(prog_rb_effect)"
   ]
  },
  {
   "cell_type": "code",
   "execution_count": 119,
   "metadata": {
    "collapsed": false
   },
   "outputs": [
    {
     "data": {
      "image/png": "[encoded data removed]",
      "text/plain": [
       "<matplotlib.figure.Figure at 0x1aa95f36a58>"
      ]
     },
     "metadata": {},
     "output_type": "display_data"
    }
   ],
   "source": [
    "tier_rb = pd.DataFrame({'Tier': tiers, 'Winrate Appreciation': prog_rb_effect})\n",
    "f,ax=plt.subplots(1,2,figsize=(18,6))\n",
    "sns.barplot('Tier', 'Winrate Appreciation', data=tier_rb, ax=ax[0], palette=\"Blues_d\")\n",
    "ax[0].set_title('Efficacy of Progressive Rakeback')\n",
    "sns.barplot('Tier', 'Winrate Appreciation', data=flat_rb, ax=ax[1], palette=\"Blues_d\")\n",
    "ax[1].set_title('Efficacy of Flat Rakeback')\n",
    "plt.show()"
   ]
  },
  {
   "cell_type": "code",
   "execution_count": 89,
   "metadata": {
    "collapsed": false
   },
   "outputs": [
    {
     "data": {
      "text/html": [
       "<div>\n",
       "<style>\n",
       "    .dataframe thead tr:only-child th {\n",
       "        text-align: right;\n",
       "    }\n",
       "\n",
       "    .dataframe thead th {\n",
       "        text-align: left;\n",
       "    }\n",
       "\n",
       "    .dataframe tbody tr th {\n",
       "        vertical-align: top;\n",
       "    }\n",
       "</style>\n",
       "<table border=\"1\" class=\"dataframe\">\n",
       "  <thead>\n",
       "    <tr style=\"text-align: right;\">\n",
       "      <th></th>\n",
       "      <th>Player</th>\n",
       "      <th>Hands</th>\n",
       "      <th>Result</th>\n",
       "      <th>RakePaid</th>\n",
       "      <th>FlatRB</th>\n",
       "      <th>winrate</th>\n",
       "      <th>Rbwinrate</th>\n",
       "      <th>Rbeffect</th>\n",
       "      <th>Reg</th>\n",
       "      <th>PlayerType</th>\n",
       "      <th>RBReg</th>\n",
       "      <th>RB_PlayerType</th>\n",
       "    </tr>\n",
       "  </thead>\n",
       "  <tbody>\n",
       "    <tr>\n",
       "      <th>0</th>\n",
       "      <td>Player 1</td>\n",
       "      <td>298644</td>\n",
       "      <td>2285.47</td>\n",
       "      <td>17668.05</td>\n",
       "      <td>3533.610</td>\n",
       "      <td>0.765282</td>\n",
       "      <td>1.948501</td>\n",
       "      <td>1.546120</td>\n",
       "      <td>1</td>\n",
       "      <td>1</td>\n",
       "      <td>1</td>\n",
       "      <td>1</td>\n",
       "    </tr>\n",
       "    <tr>\n",
       "      <th>1</th>\n",
       "      <td>Player 2</td>\n",
       "      <td>232879</td>\n",
       "      <td>4353.83</td>\n",
       "      <td>14217.46</td>\n",
       "      <td>2843.492</td>\n",
       "      <td>1.869567</td>\n",
       "      <td>3.090584</td>\n",
       "      <td>0.653101</td>\n",
       "      <td>1</td>\n",
       "      <td>1</td>\n",
       "      <td>1</td>\n",
       "      <td>1</td>\n",
       "    </tr>\n",
       "    <tr>\n",
       "      <th>2</th>\n",
       "      <td>Player 3</td>\n",
       "      <td>207342</td>\n",
       "      <td>1398.22</td>\n",
       "      <td>15216.04</td>\n",
       "      <td>3043.208</td>\n",
       "      <td>0.674354</td>\n",
       "      <td>2.142078</td>\n",
       "      <td>2.176487</td>\n",
       "      <td>1</td>\n",
       "      <td>1</td>\n",
       "      <td>1</td>\n",
       "      <td>1</td>\n",
       "    </tr>\n",
       "    <tr>\n",
       "      <th>3</th>\n",
       "      <td>Player 4</td>\n",
       "      <td>183272</td>\n",
       "      <td>5522.98</td>\n",
       "      <td>10412.41</td>\n",
       "      <td>2082.482</td>\n",
       "      <td>3.013543</td>\n",
       "      <td>4.149822</td>\n",
       "      <td>0.377058</td>\n",
       "      <td>1</td>\n",
       "      <td>1</td>\n",
       "      <td>1</td>\n",
       "      <td>1</td>\n",
       "    </tr>\n",
       "    <tr>\n",
       "      <th>4</th>\n",
       "      <td>Player 5</td>\n",
       "      <td>164829</td>\n",
       "      <td>5251.84</td>\n",
       "      <td>10028.26</td>\n",
       "      <td>2005.652</td>\n",
       "      <td>3.186235</td>\n",
       "      <td>4.403043</td>\n",
       "      <td>0.381895</td>\n",
       "      <td>1</td>\n",
       "      <td>1</td>\n",
       "      <td>1</td>\n",
       "      <td>1</td>\n",
       "    </tr>\n",
       "  </tbody>\n",
       "</table>\n",
       "</div>"
      ],
      "text/plain": [
       "     Player   Hands   Result  RakePaid    FlatRB   winrate  Rbwinrate  \\\n",
       "0  Player 1  298644  2285.47  17668.05  3533.610  0.765282   1.948501   \n",
       "1  Player 2  232879  4353.83  14217.46  2843.492  1.869567   3.090584   \n",
       "2  Player 3  207342  1398.22  15216.04  3043.208  0.674354   2.142078   \n",
       "3  Player 4  183272  5522.98  10412.41  2082.482  3.013543   4.149822   \n",
       "4  Player 5  164829  5251.84  10028.26  2005.652  3.186235   4.403043   \n",
       "\n",
       "   Rbeffect  Reg  PlayerType  RBReg  RB_PlayerType  \n",
       "0  1.546120    1           1      1              1  \n",
       "1  0.653101    1           1      1              1  \n",
       "2  2.176487    1           1      1              1  \n",
       "3  0.377058    1           1      1              1  \n",
       "4  0.381895    1           1      1              1  "
      ]
     },
     "execution_count": 89,
     "metadata": {},
     "output_type": "execute_result"
    }
   ],
   "source": [
    "flat.head()"
   ]
  },
  {
   "cell_type": "code",
   "execution_count": 99,
   "metadata": {
    "collapsed": false
   },
   "outputs": [
    {
     "data": {
      "text/html": [
       "<div>\n",
       "<style>\n",
       "    .dataframe thead tr:only-child th {\n",
       "        text-align: right;\n",
       "    }\n",
       "\n",
       "    .dataframe thead th {\n",
       "        text-align: left;\n",
       "    }\n",
       "\n",
       "    .dataframe tbody tr th {\n",
       "        vertical-align: top;\n",
       "    }\n",
       "</style>\n",
       "<table border=\"1\" class=\"dataframe\">\n",
       "  <thead>\n",
       "    <tr style=\"text-align: right;\">\n",
       "      <th></th>\n",
       "      <th>Player</th>\n",
       "      <th>Hands</th>\n",
       "      <th>Result</th>\n",
       "      <th>RakePaid</th>\n",
       "      <th>FlatRB</th>\n",
       "      <th>winrate</th>\n",
       "      <th>Rbwinrate</th>\n",
       "      <th>Rbeffect</th>\n",
       "      <th>Reg</th>\n",
       "      <th>PlayerType</th>\n",
       "      <th>RBReg</th>\n",
       "      <th>RB_PlayerType</th>\n",
       "    </tr>\n",
       "  </thead>\n",
       "  <tbody>\n",
       "    <tr>\n",
       "      <th>0</th>\n",
       "      <td>Player 1</td>\n",
       "      <td>298644</td>\n",
       "      <td>2285.47</td>\n",
       "      <td>17668.05</td>\n",
       "      <td>3533.610</td>\n",
       "      <td>0.765282</td>\n",
       "      <td>1.948501</td>\n",
       "      <td>1.546120</td>\n",
       "      <td>1</td>\n",
       "      <td>Reg</td>\n",
       "      <td>1</td>\n",
       "      <td>Reg</td>\n",
       "    </tr>\n",
       "    <tr>\n",
       "      <th>1</th>\n",
       "      <td>Player 2</td>\n",
       "      <td>232879</td>\n",
       "      <td>4353.83</td>\n",
       "      <td>14217.46</td>\n",
       "      <td>2843.492</td>\n",
       "      <td>1.869567</td>\n",
       "      <td>3.090584</td>\n",
       "      <td>0.653101</td>\n",
       "      <td>1</td>\n",
       "      <td>Reg</td>\n",
       "      <td>1</td>\n",
       "      <td>Reg</td>\n",
       "    </tr>\n",
       "    <tr>\n",
       "      <th>2</th>\n",
       "      <td>Player 3</td>\n",
       "      <td>207342</td>\n",
       "      <td>1398.22</td>\n",
       "      <td>15216.04</td>\n",
       "      <td>3043.208</td>\n",
       "      <td>0.674354</td>\n",
       "      <td>2.142078</td>\n",
       "      <td>2.176487</td>\n",
       "      <td>1</td>\n",
       "      <td>Reg</td>\n",
       "      <td>1</td>\n",
       "      <td>Reg</td>\n",
       "    </tr>\n",
       "    <tr>\n",
       "      <th>3</th>\n",
       "      <td>Player 4</td>\n",
       "      <td>183272</td>\n",
       "      <td>5522.98</td>\n",
       "      <td>10412.41</td>\n",
       "      <td>2082.482</td>\n",
       "      <td>3.013543</td>\n",
       "      <td>4.149822</td>\n",
       "      <td>0.377058</td>\n",
       "      <td>1</td>\n",
       "      <td>Reg</td>\n",
       "      <td>1</td>\n",
       "      <td>Reg</td>\n",
       "    </tr>\n",
       "    <tr>\n",
       "      <th>4</th>\n",
       "      <td>Player 5</td>\n",
       "      <td>164829</td>\n",
       "      <td>5251.84</td>\n",
       "      <td>10028.26</td>\n",
       "      <td>2005.652</td>\n",
       "      <td>3.186235</td>\n",
       "      <td>4.403043</td>\n",
       "      <td>0.381895</td>\n",
       "      <td>1</td>\n",
       "      <td>Reg</td>\n",
       "      <td>1</td>\n",
       "      <td>Reg</td>\n",
       "    </tr>\n",
       "  </tbody>\n",
       "</table>\n",
       "</div>"
      ],
      "text/plain": [
       "     Player   Hands   Result  RakePaid    FlatRB   winrate  Rbwinrate  \\\n",
       "0  Player 1  298644  2285.47  17668.05  3533.610  0.765282   1.948501   \n",
       "1  Player 2  232879  4353.83  14217.46  2843.492  1.869567   3.090584   \n",
       "2  Player 3  207342  1398.22  15216.04  3043.208  0.674354   2.142078   \n",
       "3  Player 4  183272  5522.98  10412.41  2082.482  3.013543   4.149822   \n",
       "4  Player 5  164829  5251.84  10028.26  2005.652  3.186235   4.403043   \n",
       "\n",
       "   Rbeffect  Reg PlayerType  RBReg RB_PlayerType  \n",
       "0  1.546120    1        Reg      1           Reg  \n",
       "1  0.653101    1        Reg      1           Reg  \n",
       "2  2.176487    1        Reg      1           Reg  \n",
       "3  0.377058    1        Reg      1           Reg  \n",
       "4  0.381895    1        Reg      1           Reg  "
      ]
     },
     "execution_count": 99,
     "metadata": {},
     "output_type": "execute_result"
    }
   ],
   "source": [
    "flat['PlayerType'].replace([1,0], ['Reg', 'Non-Reg'], inplace=True)\n",
    "flat['RB_PlayerType'].replace([1,0], ['Reg', 'Non-Reg'], inplace=True)\n",
    "flat.head()"
   ]
  },
  {
   "cell_type": "code",
   "execution_count": 100,
   "metadata": {
    "collapsed": true
   },
   "outputs": [],
   "source": [
    "flat['Tier'] = 0\n",
    "flat.loc[(flat['Hands']>294)&(flat['Hands']<=360.714),'Tier']=0\n",
    "flat.loc[(flat['Hands']>360.714)&(flat['Hands']<=457.429),'Tier']=1\n",
    "flat.loc[(flat['Hands']>457.429)&(flat['Hands']<=600.143),'Tier']=2\n",
    "flat.loc[(flat['Hands']>600.143)&(flat['Hands']<=863.857),'Tier']=3\n",
    "flat.loc[(flat['Hands']>863.857)&(flat['Hands']<=1420.429),'Tier']=4\n",
    "flat.loc[(flat['Hands']>1420.429)&(flat['Hands']<=3640.143),'Tier']=5\n",
    "flat.loc[(flat['Hands']>3640.143)&(flat['Hands']<=298644),'Tier']=6"
   ]
  },
  {
   "cell_type": "code",
   "execution_count": 101,
   "metadata": {
    "collapsed": true
   },
   "outputs": [],
   "source": [
    "flat['Tier'].replace([0,1,2,3,4,5,6], ['Bronze', 'Silver', 'Gold', 'Platinum', 'Diamond', 'Supernova', 'Supernova Elite'],\n",
    "                     inplace=True)"
   ]
  },
  {
   "cell_type": "code",
   "execution_count": 95,
   "metadata": {
    "collapsed": false
   },
   "outputs": [
    {
     "data": {
      "text/html": [
       "<div>\n",
       "<style>\n",
       "    .dataframe thead tr:only-child th {\n",
       "        text-align: right;\n",
       "    }\n",
       "\n",
       "    .dataframe thead th {\n",
       "        text-align: left;\n",
       "    }\n",
       "\n",
       "    .dataframe tbody tr th {\n",
       "        vertical-align: top;\n",
       "    }\n",
       "</style>\n",
       "<table border=\"1\" class=\"dataframe\">\n",
       "  <thead>\n",
       "    <tr style=\"text-align: right;\">\n",
       "      <th></th>\n",
       "      <th>Player</th>\n",
       "      <th>Hands</th>\n",
       "      <th>Result</th>\n",
       "      <th>RakePaid</th>\n",
       "      <th>FlatRB</th>\n",
       "      <th>winrate</th>\n",
       "      <th>Rbwinrate</th>\n",
       "      <th>Rbeffect</th>\n",
       "      <th>Reg</th>\n",
       "      <th>PlayerType</th>\n",
       "      <th>RBReg</th>\n",
       "      <th>RB_PlayerType</th>\n",
       "      <th>Tier</th>\n",
       "    </tr>\n",
       "  </thead>\n",
       "  <tbody>\n",
       "    <tr>\n",
       "      <th>0</th>\n",
       "      <td>Player 1</td>\n",
       "      <td>298644</td>\n",
       "      <td>2285.47</td>\n",
       "      <td>17668.05</td>\n",
       "      <td>3533.610</td>\n",
       "      <td>0.765282</td>\n",
       "      <td>1.948501</td>\n",
       "      <td>1.546120</td>\n",
       "      <td>1</td>\n",
       "      <td>Reg</td>\n",
       "      <td>1</td>\n",
       "      <td>Reg</td>\n",
       "      <td>Supernova Elite</td>\n",
       "    </tr>\n",
       "    <tr>\n",
       "      <th>1</th>\n",
       "      <td>Player 2</td>\n",
       "      <td>232879</td>\n",
       "      <td>4353.83</td>\n",
       "      <td>14217.46</td>\n",
       "      <td>2843.492</td>\n",
       "      <td>1.869567</td>\n",
       "      <td>3.090584</td>\n",
       "      <td>0.653101</td>\n",
       "      <td>1</td>\n",
       "      <td>Reg</td>\n",
       "      <td>1</td>\n",
       "      <td>Reg</td>\n",
       "      <td>Supernova Elite</td>\n",
       "    </tr>\n",
       "    <tr>\n",
       "      <th>2</th>\n",
       "      <td>Player 3</td>\n",
       "      <td>207342</td>\n",
       "      <td>1398.22</td>\n",
       "      <td>15216.04</td>\n",
       "      <td>3043.208</td>\n",
       "      <td>0.674354</td>\n",
       "      <td>2.142078</td>\n",
       "      <td>2.176487</td>\n",
       "      <td>1</td>\n",
       "      <td>Reg</td>\n",
       "      <td>1</td>\n",
       "      <td>Reg</td>\n",
       "      <td>Supernova Elite</td>\n",
       "    </tr>\n",
       "    <tr>\n",
       "      <th>3</th>\n",
       "      <td>Player 4</td>\n",
       "      <td>183272</td>\n",
       "      <td>5522.98</td>\n",
       "      <td>10412.41</td>\n",
       "      <td>2082.482</td>\n",
       "      <td>3.013543</td>\n",
       "      <td>4.149822</td>\n",
       "      <td>0.377058</td>\n",
       "      <td>1</td>\n",
       "      <td>Reg</td>\n",
       "      <td>1</td>\n",
       "      <td>Reg</td>\n",
       "      <td>Supernova Elite</td>\n",
       "    </tr>\n",
       "    <tr>\n",
       "      <th>4</th>\n",
       "      <td>Player 5</td>\n",
       "      <td>164829</td>\n",
       "      <td>5251.84</td>\n",
       "      <td>10028.26</td>\n",
       "      <td>2005.652</td>\n",
       "      <td>3.186235</td>\n",
       "      <td>4.403043</td>\n",
       "      <td>0.381895</td>\n",
       "      <td>1</td>\n",
       "      <td>Reg</td>\n",
       "      <td>1</td>\n",
       "      <td>Reg</td>\n",
       "      <td>Supernova Elite</td>\n",
       "    </tr>\n",
       "  </tbody>\n",
       "</table>\n",
       "</div>"
      ],
      "text/plain": [
       "     Player   Hands   Result  RakePaid    FlatRB   winrate  Rbwinrate  \\\n",
       "0  Player 1  298644  2285.47  17668.05  3533.610  0.765282   1.948501   \n",
       "1  Player 2  232879  4353.83  14217.46  2843.492  1.869567   3.090584   \n",
       "2  Player 3  207342  1398.22  15216.04  3043.208  0.674354   2.142078   \n",
       "3  Player 4  183272  5522.98  10412.41  2082.482  3.013543   4.149822   \n",
       "4  Player 5  164829  5251.84  10028.26  2005.652  3.186235   4.403043   \n",
       "\n",
       "   Rbeffect  Reg PlayerType  RBReg RB_PlayerType             Tier  \n",
       "0  1.546120    1        Reg      1           Reg  Supernova Elite  \n",
       "1  0.653101    1        Reg      1           Reg  Supernova Elite  \n",
       "2  2.176487    1        Reg      1           Reg  Supernova Elite  \n",
       "3  0.377058    1        Reg      1           Reg  Supernova Elite  \n",
       "4  0.381895    1        Reg      1           Reg  Supernova Elite  "
      ]
     },
     "execution_count": 95,
     "metadata": {},
     "output_type": "execute_result"
    }
   ],
   "source": [
    "flat.head()"
   ]
  },
  {
   "cell_type": "code",
   "execution_count": 102,
   "metadata": {
    "collapsed": false
   },
   "outputs": [
    {
     "name": "stdout",
     "output_type": "stream",
     "text": [
      "[0.26937408652447553, 0.12286534123076924, 0.11957560206293702, 0.326282110859155, 0.2307301816083917, 0.26001330730069944, 0.6544116589230768]\n"
     ]
    }
   ],
   "source": [
    "flat_rb_effect = []\n",
    "flat_rb_effect.append(flat[flat['Tier']=='Bronze'].Rbeffect.mean())\n",
    "flat_rb_effect.append(flat[flat['Tier']=='Silver'].Rbeffect.mean())\n",
    "flat_rb_effect.append(flat[flat['Tier']=='Gold'].Rbeffect.mean())\n",
    "flat_rb_effect.append(flat[flat['Tier']=='Platinum'].Rbeffect.mean())\n",
    "flat_rb_effect.append(flat[flat['Tier']=='Diamond'].Rbeffect.mean())\n",
    "flat_rb_effect.append(flat[flat['Tier']=='Supernova'].Rbeffect.mean())\n",
    "flat_rb_effect.append(flat[flat['Tier']=='Supernova Elite'].Rbeffect.mean())\n",
    "print(flat_rb_effect)"
   ]
  },
  {
   "cell_type": "code",
   "execution_count": 103,
   "metadata": {
    "collapsed": false
   },
   "outputs": [
    {
     "data": {
      "image/png": "[encoded data removed]",
      "text/plain": [
       "<matplotlib.figure.Figure at 0x1aa95a2aac8>"
      ]
     },
     "metadata": {},
     "output_type": "display_data"
    }
   ],
   "source": [
    "flat_rb = pd.DataFrame({'Tier': tiers, 'Winrate Appreciation': flat_rb_effect})\n",
    "f,ax=plt.subplots(figsize=(9,5))\n",
    "sns.barplot('Tier', 'Winrate Appreciation', data=flat_rb, palette=\"Blues_d\")\n",
    "ax.set_title('Efficacy of Flat Rakeback')\n",
    "plt.show()"
   ]
  },
  {
   "cell_type": "code",
   "execution_count": null,
   "metadata": {
    "collapsed": true
   },
   "outputs": [],
   "source": []
  }
 ],
 "metadata": {
  "kernelspec": {
   "display_name": "Python 3",
   "language": "python",
   "name": "python3"
  },
  "language_info": {
   "codemirror_mode": {
    "name": "ipython",
    "version": 3
   },
   "file_extension": ".py",
   "mimetype": "text/x-python",
   "name": "python",
   "nbconvert_exporter": "python",
   "pygments_lexer": "ipython3",
   "version": "3.6.0"
  }
 },
 "nbformat": 4,
 "nbformat_minor": 2
}
